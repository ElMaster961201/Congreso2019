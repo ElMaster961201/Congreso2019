{
 "cells": [
  {
   "cell_type": "markdown",
   "metadata": {},
   "source": [
    "# Ejercicios prácticos."
   ]
  },
  {
   "cell_type": "markdown",
   "metadata": {},
   "source": [
    "Realizar un script que cumpla lo siguiente.\n",
    "\n",
    "- Realiza el código que sume 2 número.\n",
    "- Realiza el código que una 2 cadenas.\n",
    "- Realiza el código que imprima solo un carácter de una cadena.\n",
    "- Elaborar un algoritmo que solicite 2 números y muestre el promedio de ambos.\n",
    "    - Tip: para leer de teclado se hace la siguiente manera: a= input('Mensaje')\n",
    "    \n",
    "\n",
    "\n",
    "\n",
    "\n"
   ]
  },
  {
   "cell_type": "code",
   "execution_count": 8,
   "metadata": {},
   "outputs": [
    {
     "name": "stdout",
     "output_type": "stream",
     "text": [
      "Dame un numero25\n",
      "<class 'int'>\n",
      "8\n"
     ]
    },
    {
     "data": {
      "text/plain": [
       "int"
      ]
     },
     "execution_count": 8,
     "metadata": {},
     "output_type": "execute_result"
    }
   ],
   "source": [
    "a = '5'\n",
    "b = 3\n",
    "aa = int(input('Dame un numero'))\n",
    "print(type(aa))\n",
    "print(a+b)\n",
    "type(a+b)"
   ]
  }
 ],
 "metadata": {
  "kernelspec": {
   "display_name": "Python 3",
   "language": "python",
   "name": "python3"
  },
  "language_info": {
   "codemirror_mode": {
    "name": "ipython",
    "version": 3
   },
   "file_extension": ".py",
   "mimetype": "text/x-python",
   "name": "python",
   "nbconvert_exporter": "python",
   "pygments_lexer": "ipython3",
   "version": "3.6.8"
  }
 },
 "nbformat": 4,
 "nbformat_minor": 2
}
