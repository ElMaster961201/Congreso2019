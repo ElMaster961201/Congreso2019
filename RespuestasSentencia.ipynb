{
 "cells": [
  {
   "cell_type": "markdown",
   "metadata": {},
   "source": [
    "# Respuesta de sentencias."
   ]
  },
  {
   "cell_type": "markdown",
   "metadata": {},
   "source": [
    "Pedir un numero y decir si este número es mayor que 15.\n"
   ]
  },
  {
   "cell_type": "code",
   "execution_count": null,
   "metadata": {},
   "outputs": [],
   "source": [
    "a = int(input('Dame un numero '))\n",
    "if a > 15:\n",
    "    print(\"El numero es mayor\")\n",
    "    pass"
   ]
  },
  {
   "cell_type": "markdown",
   "metadata": {},
   "source": [
    "Pedir un numero, decir si es menor de 5, mayor que 15, igual a 8."
   ]
  },
  {
   "cell_type": "code",
   "execution_count": null,
   "metadata": {},
   "outputs": [],
   "source": [
    "a = int(input('Dame un numero '))\n",
    "if a <= 5:\n",
    "    print(\"El numero es menor a 5 o es 5\")\n",
    "elif a > 15:\n",
    "    print(\"El numero es mayor a 15\")\n",
    "elif a == 8:\n",
    "    print (\"El numero es 8\")\n",
    "else:\n",
    "    print(\"El numero es mayor a 5 pero menor a 15 y diferente a 8\")       "
   ]
  },
  {
   "cell_type": "markdown",
   "metadata": {},
   "source": [
    "Con un for imprimir el contenido del siguiente vector [4,3,6,8,9,1]."
   ]
  },
  {
   "cell_type": "code",
   "execution_count": null,
   "metadata": {},
   "outputs": [],
   "source": [
    "a = [4,3,6,8,9,1]\n",
    "\n",
    "print(a)\n",
    "for b in a:\n",
    "    print(b) "
   ]
  },
  {
   "cell_type": "markdown",
   "metadata": {},
   "source": [
    "Con while imprimir el valor de x = 3 hasta que x sea mayor a 20."
   ]
  },
  {
   "cell_type": "code",
   "execution_count": null,
   "metadata": {},
   "outputs": [],
   "source": [
    "x = 3\n",
    "while x <= 20:\n",
    "    print(x)\n",
    "    x += 1"
   ]
  }
 ],
 "metadata": {
  "kernelspec": {
   "display_name": "Python 3",
   "language": "python",
   "name": "python3"
  },
  "language_info": {
   "codemirror_mode": {
    "name": "ipython",
    "version": 3
   },
   "file_extension": ".py",
   "mimetype": "text/x-python",
   "name": "python",
   "nbconvert_exporter": "python",
   "pygments_lexer": "ipython3",
   "version": "3.6.8"
  }
 },
 "nbformat": 4,
 "nbformat_minor": 2
}
