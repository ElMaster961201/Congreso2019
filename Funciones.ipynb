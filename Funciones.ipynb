{
 "cells": [
  {
   "cell_type": "markdown",
   "metadata": {},
   "source": [
    "# Funciones"
   ]
  },
  {
   "cell_type": "markdown",
   "metadata": {},
   "source": [
    "Función simple."
   ]
  },
  {
   "cell_type": "code",
   "execution_count": null,
   "metadata": {
    "scrolled": true
   },
   "outputs": [],
   "source": [
    "def ejemplo():\n",
    "    print(\"Hola Mundo\")\n",
    "    pass\n",
    "ejemplo()"
   ]
  },
  {
   "cell_type": "markdown",
   "metadata": {},
   "source": [
    "Funciones con paso de parametros."
   ]
  },
  {
   "cell_type": "code",
   "execution_count": null,
   "metadata": {},
   "outputs": [],
   "source": [
    "def suma(a,b):\n",
    "    c = a + b\n",
    "    print (c)\n",
    "    pass\n",
    "\n",
    "suma(5, 6)\n",
    "suma(3, 6)\n",
    "suma(5, 7)\n",
    "suma(3, 9)"
   ]
  },
  {
   "cell_type": "markdown",
   "metadata": {},
   "source": [
    "Funcion con valor por defecto."
   ]
  },
  {
   "cell_type": "code",
   "execution_count": null,
   "metadata": {},
   "outputs": [],
   "source": [
    "def suma(a = 0,b = 0):\n",
    "    c = a + b\n",
    "    print(c)\n",
    "    pass\n",
    "suma()\n",
    "suma(5)\n",
    "suma(3,6)"
   ]
  },
  {
   "cell_type": "markdown",
   "metadata": {},
   "source": [
    "Nombres de parámetros."
   ]
  },
  {
   "cell_type": "code",
   "execution_count": null,
   "metadata": {},
   "outputs": [],
   "source": [
    "def suma(a,b):\n",
    "    print(a)\n",
    "    print(b)\n",
    "    pass\n",
    "suma(b = 3, a = 6)"
   ]
  },
  {
   "cell_type": "markdown",
   "metadata": {},
   "source": [
    "Número indefinido de argumentos."
   ]
  },
  {
   "cell_type": "code",
   "execution_count": null,
   "metadata": {},
   "outputs": [],
   "source": [
    "def suma(*items):\n",
    "    c = 0\n",
    "    for x in items:\n",
    "        c += x\n",
    "        pass\n",
    "    print(c)\n",
    "    pass\n",
    "\n",
    "def nombre(nombre,apellido,**info):\n",
    "    print(\"Nombre: \" + nombre)\n",
    "    print(\"Apellido: \" + apellido)\n",
    "    for x in info:\n",
    "        print(\"{0}: {1}\".format(x,info[x]))\n",
    "        pass\n",
    "    pass\n",
    "\n",
    "suma(1)\n",
    "suma(1,2)\n",
    "suma(1,2,3,4,5,8,9,7,3)\n",
    "print()\n",
    "nombre(\"Juan\",\"Pedro\",edad = 15,sexo = 'H')\n",
    "print()\n",
    "nombre(\"Maria\",\"Silva\",Edad = 19,Sexo = 'M',Altura = \"1.68 m\")"
   ]
  },
  {
   "cell_type": "markdown",
   "metadata": {},
   "source": [
    "Desempaquetado de argumentos."
   ]
  },
  {
   "cell_type": "code",
   "execution_count": null,
   "metadata": {},
   "outputs": [],
   "source": [
    "def mensaje(x,y,z):\n",
    "    print(\"z: {0}, y: {1}, x: {2}\".format(z,y,x))\n",
    "    pass\n",
    "\n",
    "\n",
    "a = [\"Hola\",\"Nuevo\",\"Mundo\"]\n",
    "b = {'y' : \"Hola\",'x' : \"Nuevo\",'z' : \"Mundo\"}\n",
    "mensaje(*a)\n",
    "mensaje(**b)"
   ]
  },
  {
   "cell_type": "markdown",
   "metadata": {},
   "source": [
    "Funciones con el mismo nombre."
   ]
  },
  {
   "cell_type": "code",
   "execution_count": null,
   "metadata": {},
   "outputs": [],
   "source": [
    "def uno(a,b):\n",
    "    print(b)\n",
    "    print(a)\n",
    "    pass\n",
    "\n",
    "def uno(a):\n",
    "    print(a)\n",
    "    pass\n",
    "\n",
    "\n",
    "\n",
    "uno(5)\n",
    "uno(5,\"Hola\")"
   ]
  },
  {
   "cell_type": "markdown",
   "metadata": {},
   "source": [
    "Funciones lambda.  "
   ]
  },
  {
   "cell_type": "code",
   "execution_count": null,
   "metadata": {},
   "outputs": [],
   "source": [
    "li = [lambda x: x + 2,lambda x: x +6]\n",
    "for x in li:\n",
    "    print(x(5))\n",
    "    pass\n",
    "li[0](6)\n"
   ]
  },
  {
   "cell_type": "markdown",
   "metadata": {},
   "source": [
    "Retorno de valor."
   ]
  },
  {
   "cell_type": "code",
   "execution_count": null,
   "metadata": {},
   "outputs": [],
   "source": [
    "def hola():\n",
    "    return(\"Hola Mundo\")\n",
    "\n",
    "print(hola())"
   ]
  },
  {
   "cell_type": "markdown",
   "metadata": {},
   "source": [
    "Retorno de múltiples valores."
   ]
  },
  {
   "cell_type": "code",
   "execution_count": null,
   "metadata": {},
   "outputs": [],
   "source": [
    "def numeros():\n",
    "    return 5,3,6,8\n",
    "\n",
    "a = numeros()\n",
    "for b in a:\n",
    "    print(b)\n",
    "    pass\n",
    "print(a)"
   ]
  }
 ],
 "metadata": {
  "kernelspec": {
   "display_name": "Python 3",
   "language": "python",
   "name": "python3"
  },
  "language_info": {
   "codemirror_mode": {
    "name": "ipython",
    "version": 3
   },
   "file_extension": ".py",
   "mimetype": "text/x-python",
   "name": "python",
   "nbconvert_exporter": "python",
   "pygments_lexer": "ipython3",
   "version": "3.6.8"
  }
 },
 "nbformat": 4,
 "nbformat_minor": 2
}
