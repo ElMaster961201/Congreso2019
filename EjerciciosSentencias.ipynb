{
 "cells": [
  {
   "cell_type": "markdown",
   "metadata": {},
   "source": [
    "## Ejercicio de sentencias.\n",
    "\n",
    "- Pedir un numero y decir si este número es mayor que 15.\n",
    "- Pedir un numero, decir si es mayor de 5 y menor que 15.\n",
    "- Con un for imprimir el contenido del siguiente vector [4,3,6,8,9,1].\n",
    "    - v=[4,3,6,8,9,1]\n",
    "- Con while imprimir el valor de x hasta que x sea mayor a 20.\n",
    " "
   ]
  }
 ],
 "metadata": {
  "kernelspec": {
   "display_name": "Python 3",
   "language": "python",
   "name": "python3"
  },
  "language_info": {
   "codemirror_mode": {
    "name": "ipython",
    "version": 3
   },
   "file_extension": ".py",
   "mimetype": "text/x-python",
   "name": "python",
   "nbconvert_exporter": "python",
   "pygments_lexer": "ipython3",
   "version": "3.6.8"
  }
 },
 "nbformat": 4,
 "nbformat_minor": 2
}
