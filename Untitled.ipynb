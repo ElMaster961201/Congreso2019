{
 "cells": [
  {
   "cell_type": "markdown",
   "metadata": {},
   "source": [
    "# Scikit Learn"
   ]
  },
  {
   "cell_type": "markdown",
   "metadata": {},
   "source": [
    "Dividir el conjunto de datos disponibles, en datos para pruebas y en datos para test."
   ]
  },
  {
   "cell_type": "code",
   "execution_count": 3,
   "metadata": {},
   "outputs": [],
   "source": [
    "import pandas as pd\n",
    "import numpy as np\n",
    "from sklearn.model_selection import train_test_split"
   ]
  },
  {
   "cell_type": "code",
   "execution_count": 6,
   "metadata": {},
   "outputs": [
    {
     "data": {
      "text/plain": [
       "array([[79,  0, 71,  4],\n",
       "       [ 4, 92,  7, 64],\n",
       "       [ 7, 93, 72, 36],\n",
       "       [10, 62, 55, 84],\n",
       "       [17, 38, 40, 66],\n",
       "       [52, 73, 36, 77],\n",
       "       [58, 66, 76, 96],\n",
       "       [28, 74, 71, 18],\n",
       "       [97, 28, 53, 96],\n",
       "       [53, 87,  8, 11],\n",
       "       [28,  8, 64,  0],\n",
       "       [73, 25, 16, 45],\n",
       "       [24, 53, 21, 68],\n",
       "       [48, 75, 93, 21],\n",
       "       [ 2, 16, 75, 23],\n",
       "       [93, 27, 10, 24],\n",
       "       [ 2, 26, 99,  2],\n",
       "       [71, 62, 77, 41],\n",
       "       [99, 24, 40, 25],\n",
       "       [84, 72, 53, 72],\n",
       "       [81,  8, 64, 96],\n",
       "       [48, 32, 62, 57],\n",
       "       [14, 42, 13, 15],\n",
       "       [85, 14, 44, 36],\n",
       "       [ 9, 60, 16, 29],\n",
       "       [37, 77, 15, 25],\n",
       "       [89, 58, 63, 67],\n",
       "       [28, 90, 26, 72],\n",
       "       [64, 23, 68, 70],\n",
       "       [ 9, 73, 56, 36],\n",
       "       [58, 65, 26, 33],\n",
       "       [57, 45, 85,  1],\n",
       "       [45, 20, 80, 67],\n",
       "       [68, 13, 10, 73],\n",
       "       [98, 30, 25, 37],\n",
       "       [56, 90,  6, 35],\n",
       "       [77, 49, 75, 12],\n",
       "       [57, 28, 69, 43],\n",
       "       [85, 49, 12, 30],\n",
       "       [ 3, 69, 44, 36],\n",
       "       [94, 19,  8, 79],\n",
       "       [37, 91, 65, 27],\n",
       "       [63, 87, 57, 47],\n",
       "       [44, 82, 16, 64],\n",
       "       [92, 45, 54, 59],\n",
       "       [22, 15, 95, 38],\n",
       "       [55, 94, 17, 10],\n",
       "       [80, 25, 18, 18],\n",
       "       [12, 65, 74, 68],\n",
       "       [91, 41, 36, 18],\n",
       "       [ 3,  1, 24, 37],\n",
       "       [55, 32, 41, 46],\n",
       "       [52,  6, 84, 58],\n",
       "       [67, 38, 78, 62],\n",
       "       [48, 20,  7, 28],\n",
       "       [38, 32, 42, 92],\n",
       "       [89, 85, 79, 73],\n",
       "       [16, 78, 47, 83],\n",
       "       [24, 79, 78, 63],\n",
       "       [13, 38, 39, 41],\n",
       "       [ 5, 17, 33, 20],\n",
       "       [23, 93, 26, 36],\n",
       "       [92, 85, 77,  8],\n",
       "       [46, 89, 96, 47],\n",
       "       [78, 47, 15, 88],\n",
       "       [91, 26, 28, 54],\n",
       "       [91, 73, 91, 96],\n",
       "       [26, 99, 83, 40],\n",
       "       [32, 79, 78, 21],\n",
       "       [40, 50, 67, 55],\n",
       "       [67, 68,  3, 45],\n",
       "       [57, 45, 18, 28],\n",
       "       [72,  2, 92, 80],\n",
       "       [69, 50, 58, 86],\n",
       "       [ 0, 60, 22, 79],\n",
       "       [30, 48, 10, 73],\n",
       "       [15, 58, 21, 69],\n",
       "       [51, 13, 19,  9],\n",
       "       [91, 39, 84, 27],\n",
       "       [52, 30, 42, 42],\n",
       "       [61, 57,  2, 36],\n",
       "       [72, 86,  9,  7],\n",
       "       [14, 65, 79, 88],\n",
       "       [12, 38, 79, 40],\n",
       "       [74,  4, 27, 57],\n",
       "       [58, 93, 18, 90],\n",
       "       [92, 43, 80, 57],\n",
       "       [ 0, 71, 34, 79],\n",
       "       [45, 21, 76, 22],\n",
       "       [62, 58, 51, 21],\n",
       "       [80, 90, 52, 82],\n",
       "       [57, 64, 11, 55],\n",
       "       [71,  3, 21, 40],\n",
       "       [73, 19,  9, 37],\n",
       "       [ 4,  7, 85, 75],\n",
       "       [33, 84,  7, 88],\n",
       "       [ 9, 25, 25, 34],\n",
       "       [83,  7, 47, 81],\n",
       "       [79, 96, 84, 14],\n",
       "       [37, 32, 83,  8]])"
      ]
     },
     "execution_count": 6,
     "metadata": {},
     "output_type": "execute_result"
    }
   ],
   "source": [
    "datos = np.random.randint(0,100,(100,4))\n",
    "datos"
   ]
  },
  {
   "cell_type": "code",
   "execution_count": 7,
   "metadata": {},
   "outputs": [
    {
     "data": {
      "text/html": [
       "<div>\n",
       "<style scoped>\n",
       "    .dataframe tbody tr th:only-of-type {\n",
       "        vertical-align: middle;\n",
       "    }\n",
       "\n",
       "    .dataframe tbody tr th {\n",
       "        vertical-align: top;\n",
       "    }\n",
       "\n",
       "    .dataframe thead th {\n",
       "        text-align: right;\n",
       "    }\n",
       "</style>\n",
       "<table border=\"1\" class=\"dataframe\">\n",
       "  <thead>\n",
       "    <tr style=\"text-align: right;\">\n",
       "      <th></th>\n",
       "      <th>c1</th>\n",
       "      <th>c2</th>\n",
       "      <th>c3</th>\n",
       "      <th>etiqueta</th>\n",
       "    </tr>\n",
       "  </thead>\n",
       "  <tbody>\n",
       "    <tr>\n",
       "      <td>0</td>\n",
       "      <td>79</td>\n",
       "      <td>0</td>\n",
       "      <td>71</td>\n",
       "      <td>4</td>\n",
       "    </tr>\n",
       "    <tr>\n",
       "      <td>1</td>\n",
       "      <td>4</td>\n",
       "      <td>92</td>\n",
       "      <td>7</td>\n",
       "      <td>64</td>\n",
       "    </tr>\n",
       "    <tr>\n",
       "      <td>2</td>\n",
       "      <td>7</td>\n",
       "      <td>93</td>\n",
       "      <td>72</td>\n",
       "      <td>36</td>\n",
       "    </tr>\n",
       "    <tr>\n",
       "      <td>3</td>\n",
       "      <td>10</td>\n",
       "      <td>62</td>\n",
       "      <td>55</td>\n",
       "      <td>84</td>\n",
       "    </tr>\n",
       "    <tr>\n",
       "      <td>4</td>\n",
       "      <td>17</td>\n",
       "      <td>38</td>\n",
       "      <td>40</td>\n",
       "      <td>66</td>\n",
       "    </tr>\n",
       "    <tr>\n",
       "      <td>...</td>\n",
       "      <td>...</td>\n",
       "      <td>...</td>\n",
       "      <td>...</td>\n",
       "      <td>...</td>\n",
       "    </tr>\n",
       "    <tr>\n",
       "      <td>95</td>\n",
       "      <td>33</td>\n",
       "      <td>84</td>\n",
       "      <td>7</td>\n",
       "      <td>88</td>\n",
       "    </tr>\n",
       "    <tr>\n",
       "      <td>96</td>\n",
       "      <td>9</td>\n",
       "      <td>25</td>\n",
       "      <td>25</td>\n",
       "      <td>34</td>\n",
       "    </tr>\n",
       "    <tr>\n",
       "      <td>97</td>\n",
       "      <td>83</td>\n",
       "      <td>7</td>\n",
       "      <td>47</td>\n",
       "      <td>81</td>\n",
       "    </tr>\n",
       "    <tr>\n",
       "      <td>98</td>\n",
       "      <td>79</td>\n",
       "      <td>96</td>\n",
       "      <td>84</td>\n",
       "      <td>14</td>\n",
       "    </tr>\n",
       "    <tr>\n",
       "      <td>99</td>\n",
       "      <td>37</td>\n",
       "      <td>32</td>\n",
       "      <td>83</td>\n",
       "      <td>8</td>\n",
       "    </tr>\n",
       "  </tbody>\n",
       "</table>\n",
       "<p>100 rows × 4 columns</p>\n",
       "</div>"
      ],
      "text/plain": [
       "    c1  c2  c3  etiqueta\n",
       "0   79   0  71         4\n",
       "1    4  92   7        64\n",
       "2    7  93  72        36\n",
       "3   10  62  55        84\n",
       "4   17  38  40        66\n",
       "..  ..  ..  ..       ...\n",
       "95  33  84   7        88\n",
       "96   9  25  25        34\n",
       "97  83   7  47        81\n",
       "98  79  96  84        14\n",
       "99  37  32  83         8\n",
       "\n",
       "[100 rows x 4 columns]"
      ]
     },
     "execution_count": 7,
     "metadata": {},
     "output_type": "execute_result"
    }
   ],
   "source": [
    "dataframe = pd.DataFrame(data=datos, columns=['c1','c2','c3','etiqueta'])\n",
    "dataframe"
   ]
  },
  {
   "cell_type": "code",
   "execution_count": 9,
   "metadata": {},
   "outputs": [
    {
     "data": {
      "text/html": [
       "<div>\n",
       "<style scoped>\n",
       "    .dataframe tbody tr th:only-of-type {\n",
       "        vertical-align: middle;\n",
       "    }\n",
       "\n",
       "    .dataframe tbody tr th {\n",
       "        vertical-align: top;\n",
       "    }\n",
       "\n",
       "    .dataframe thead th {\n",
       "        text-align: right;\n",
       "    }\n",
       "</style>\n",
       "<table border=\"1\" class=\"dataframe\">\n",
       "  <thead>\n",
       "    <tr style=\"text-align: right;\">\n",
       "      <th></th>\n",
       "      <th>c1</th>\n",
       "      <th>c2</th>\n",
       "      <th>c3</th>\n",
       "    </tr>\n",
       "  </thead>\n",
       "  <tbody>\n",
       "    <tr>\n",
       "      <td>0</td>\n",
       "      <td>79</td>\n",
       "      <td>0</td>\n",
       "      <td>71</td>\n",
       "    </tr>\n",
       "    <tr>\n",
       "      <td>1</td>\n",
       "      <td>4</td>\n",
       "      <td>92</td>\n",
       "      <td>7</td>\n",
       "    </tr>\n",
       "    <tr>\n",
       "      <td>2</td>\n",
       "      <td>7</td>\n",
       "      <td>93</td>\n",
       "      <td>72</td>\n",
       "    </tr>\n",
       "    <tr>\n",
       "      <td>3</td>\n",
       "      <td>10</td>\n",
       "      <td>62</td>\n",
       "      <td>55</td>\n",
       "    </tr>\n",
       "    <tr>\n",
       "      <td>4</td>\n",
       "      <td>17</td>\n",
       "      <td>38</td>\n",
       "      <td>40</td>\n",
       "    </tr>\n",
       "    <tr>\n",
       "      <td>...</td>\n",
       "      <td>...</td>\n",
       "      <td>...</td>\n",
       "      <td>...</td>\n",
       "    </tr>\n",
       "    <tr>\n",
       "      <td>95</td>\n",
       "      <td>33</td>\n",
       "      <td>84</td>\n",
       "      <td>7</td>\n",
       "    </tr>\n",
       "    <tr>\n",
       "      <td>96</td>\n",
       "      <td>9</td>\n",
       "      <td>25</td>\n",
       "      <td>25</td>\n",
       "    </tr>\n",
       "    <tr>\n",
       "      <td>97</td>\n",
       "      <td>83</td>\n",
       "      <td>7</td>\n",
       "      <td>47</td>\n",
       "    </tr>\n",
       "    <tr>\n",
       "      <td>98</td>\n",
       "      <td>79</td>\n",
       "      <td>96</td>\n",
       "      <td>84</td>\n",
       "    </tr>\n",
       "    <tr>\n",
       "      <td>99</td>\n",
       "      <td>37</td>\n",
       "      <td>32</td>\n",
       "      <td>83</td>\n",
       "    </tr>\n",
       "  </tbody>\n",
       "</table>\n",
       "<p>100 rows × 3 columns</p>\n",
       "</div>"
      ],
      "text/plain": [
       "    c1  c2  c3\n",
       "0   79   0  71\n",
       "1    4  92   7\n",
       "2    7  93  72\n",
       "3   10  62  55\n",
       "4   17  38  40\n",
       "..  ..  ..  ..\n",
       "95  33  84   7\n",
       "96   9  25  25\n",
       "97  83   7  47\n",
       "98  79  96  84\n",
       "99  37  32  83\n",
       "\n",
       "[100 rows x 3 columns]"
      ]
     },
     "execution_count": 9,
     "metadata": {},
     "output_type": "execute_result"
    }
   ],
   "source": [
    "x = dataframe[['c1','c2','c3']]\n",
    "x"
   ]
  },
  {
   "cell_type": "code",
   "execution_count": 13,
   "metadata": {},
   "outputs": [
    {
     "data": {
      "text/plain": [
       "0      4\n",
       "1     64\n",
       "2     36\n",
       "3     84\n",
       "4     66\n",
       "      ..\n",
       "95    88\n",
       "96    34\n",
       "97    81\n",
       "98    14\n",
       "99     8\n",
       "Name: etiqueta, Length: 100, dtype: int64"
      ]
     },
     "execution_count": 13,
     "metadata": {},
     "output_type": "execute_result"
    }
   ],
   "source": [
    "y = dataframe['etiqueta']\n",
    "y"
   ]
  },
  {
   "cell_type": "code",
   "execution_count": 16,
   "metadata": {},
   "outputs": [],
   "source": [
    "x_train, x_test, y_train, y_test = train_test_split(x,y, test_size=0.3)"
   ]
  },
  {
   "cell_type": "code",
   "execution_count": 17,
   "metadata": {},
   "outputs": [
    {
     "data": {
      "text/plain": [
       "(70, 3)"
      ]
     },
     "execution_count": 17,
     "metadata": {},
     "output_type": "execute_result"
    }
   ],
   "source": [
    "x_train.shape"
   ]
  },
  {
   "cell_type": "code",
   "execution_count": 18,
   "metadata": {},
   "outputs": [
    {
     "data": {
      "text/plain": [
       "(30, 3)"
      ]
     },
     "execution_count": 18,
     "metadata": {},
     "output_type": "execute_result"
    }
   ],
   "source": [
    "x_test.shape"
   ]
  },
  {
   "cell_type": "code",
   "execution_count": 19,
   "metadata": {},
   "outputs": [
    {
     "data": {
      "text/plain": [
       "(70,)"
      ]
     },
     "execution_count": 19,
     "metadata": {},
     "output_type": "execute_result"
    }
   ],
   "source": [
    "y_train.shape"
   ]
  },
  {
   "cell_type": "code",
   "execution_count": 20,
   "metadata": {},
   "outputs": [
    {
     "data": {
      "text/plain": [
       "(30,)"
      ]
     },
     "execution_count": 20,
     "metadata": {},
     "output_type": "execute_result"
    }
   ],
   "source": [
    "y_test.shape"
   ]
  },
  {
   "cell_type": "code",
   "execution_count": null,
   "metadata": {},
   "outputs": [],
   "source": []
  },
  {
   "cell_type": "code",
   "execution_count": null,
   "metadata": {},
   "outputs": [],
   "source": []
  },
  {
   "cell_type": "code",
   "execution_count": null,
   "metadata": {},
   "outputs": [],
   "source": []
  }
 ],
 "metadata": {
  "kernelspec": {
   "display_name": "Python 3",
   "language": "python",
   "name": "python3"
  },
  "language_info": {
   "codemirror_mode": {
    "name": "ipython",
    "version": 3
   },
   "file_extension": ".py",
   "mimetype": "text/x-python",
   "name": "python",
   "nbconvert_exporter": "python",
   "pygments_lexer": "ipython3",
   "version": "3.6.8"
  }
 },
 "nbformat": 4,
 "nbformat_minor": 2
}
