{
 "cells": [
  {
   "cell_type": "markdown",
   "metadata": {},
   "source": [
    "# Sentencias "
   ]
  },
  {
   "cell_type": "code",
   "execution_count": null,
   "metadata": {},
   "outputs": [],
   "source": [
    "x = 6\n",
    "y = 8\n",
    "\n",
    "if x > y:\n",
    "    print ('X es mayor que Y')\n",
    "    print ('X vale {0} y Y vale {1}'.format(x,y))\n",
    "elif x == y:\n",
    "    print ('X es igual que Y')\n",
    "    print ('X y Y vale {0}'.format(x))\n",
    "else:\n",
    "    print ('X es menor que Y')\n",
    "    print ('X vale {0} y Y vale {1}'.format(x,y))"
   ]
  },
  {
   "cell_type": "markdown",
   "metadata": {},
   "source": [
    "Tipos de for "
   ]
  },
  {
   "cell_type": "markdown",
   "metadata": {},
   "source": [
    "For comun, con indice."
   ]
  },
  {
   "cell_type": "code",
   "execution_count": null,
   "metadata": {},
   "outputs": [],
   "source": [
    "for x in range(0,15):\n",
    "    print (x)"
   ]
  },
  {
   "cell_type": "markdown",
   "metadata": {},
   "source": [
    "For iterando elementos de una lista"
   ]
  },
  {
   "cell_type": "code",
   "execution_count": null,
   "metadata": {},
   "outputs": [],
   "source": [
    "lista = [\"Uno\",2,\"Tres\",\"Cuatro\",5,6]\n",
    "for x in lista:\n",
    "    print (x)"
   ]
  },
  {
   "cell_type": "markdown",
   "metadata": {},
   "source": [
    "While"
   ]
  },
  {
   "cell_type": "code",
   "execution_count": null,
   "metadata": {},
   "outputs": [],
   "source": [
    "x = 5\n",
    "y = 10\n",
    "while x < y:\n",
    "    print (\"x es manor que y\")\n",
    "    print (\"x = {0} y = {1}\".format(x,y))\n",
    "    x = x + 1\n",
    "print (\"x ya no es menor que y\")"
   ]
  }
 ],
 "metadata": {
  "kernelspec": {
   "display_name": "Python 3",
   "language": "python",
   "name": "python3"
  },
  "language_info": {
   "codemirror_mode": {
    "name": "ipython",
    "version": 3
   },
   "file_extension": ".py",
   "mimetype": "text/x-python",
   "name": "python",
   "nbconvert_exporter": "python",
   "pygments_lexer": "ipython3",
   "version": "3.6.8"
  }
 },
 "nbformat": 4,
 "nbformat_minor": 2
}
