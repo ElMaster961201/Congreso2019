{
 "cells": [
  {
   "cell_type": "markdown",
   "metadata": {},
   "source": [
    "# Sentencias "
   ]
  },
  {
   "cell_type": "markdown",
   "metadata": {},
   "source": [
    "# ElMaster961201"
   ]
  },
  {
   "cell_type": "code",
   "execution_count": 3,
   "metadata": {},
   "outputs": [
    {
     "name": "stdout",
     "output_type": "stream",
     "text": [
      "X es mayor que Y\n",
      "X vale 10 y Y vale 8\n",
      "X vale 10 y Y vale 8\n",
      "X vale 10 y Y vale 8\n"
     ]
    }
   ],
   "source": [
    "x = 10\n",
    "y = 8\n",
    "\n",
    "if x > y:\n",
    "    print ('X es mayor que Y')\n",
    "    print ('X vale {0} y Y vale {1}'.format(x,y))\n",
    "    print('X vale ' + str(x)+' y Y vale '+str(y))\n",
    "elif x == y:\n",
    "    print ('X es igual que Y')\n",
    "    print ('X y Y vale {0}'.format(x))\n",
    "else:\n",
    "    print ('X es menor que Y')\n",
    "print ('X vale {0} y Y vale {1}'.format(x,y))"
   ]
  },
  {
   "cell_type": "markdown",
   "metadata": {},
   "source": [
    "Tipos de for "
   ]
  },
  {
   "cell_type": "markdown",
   "metadata": {},
   "source": [
    "For comun, con indice."
   ]
  },
  {
   "cell_type": "code",
   "execution_count": 7,
   "metadata": {},
   "outputs": [
    {
     "name": "stdout",
     "output_type": "stream",
     "text": [
      "1\n",
      "3\n",
      "5\n",
      "7\n",
      "9\n",
      "11\n",
      "13\n"
     ]
    }
   ],
   "source": [
    "for x in range(1,15,2):\n",
    "    print (x)"
   ]
  },
  {
   "cell_type": "markdown",
   "metadata": {},
   "source": [
    "For iterando elementos de una lista"
   ]
  },
  {
   "cell_type": "code",
   "execution_count": 11,
   "metadata": {},
   "outputs": [
    {
     "name": "stdout",
     "output_type": "stream",
     "text": [
      "Uno\n",
      "2\n",
      "Tres\n",
      "Cuatro\n",
      "5\n",
      "6\n"
     ]
    }
   ],
   "source": [
    "lista = [\"Uno\",2,\"Tres\",\"Cuatro\",5,6]\n",
    "for x in lista:\n",
    "    print (x)"
   ]
  },
  {
   "cell_type": "markdown",
   "metadata": {},
   "source": [
    "While"
   ]
  },
  {
   "cell_type": "code",
   "execution_count": 12,
   "metadata": {},
   "outputs": [
    {
     "name": "stdout",
     "output_type": "stream",
     "text": [
      "x es manor que y\n",
      "x = 5 y = 10\n",
      "x es manor que y\n",
      "x = 6 y = 10\n",
      "x es manor que y\n",
      "x = 7 y = 10\n",
      "x es manor que y\n",
      "x = 8 y = 10\n",
      "x es manor que y\n",
      "x = 9 y = 10\n",
      "x ya no es menor que y\n"
     ]
    }
   ],
   "source": [
    "x = 5\n",
    "y = 10\n",
    "while x < y:\n",
    "    print (\"x es manor que y\")\n",
    "    print (\"x = {0} y = {1}\".format(x,y))\n",
    "    x = x + 1\n",
    "print (\"x ya no es menor que y\")"
   ]
  }
 ],
 "metadata": {
  "kernelspec": {
   "display_name": "Python 3",
   "language": "python",
   "name": "python3"
  },
  "language_info": {
   "codemirror_mode": {
    "name": "ipython",
    "version": 3
   },
   "file_extension": ".py",
   "mimetype": "text/x-python",
   "name": "python",
   "nbconvert_exporter": "python",
   "pygments_lexer": "ipython3",
   "version": "3.6.8"
  }
 },
 "nbformat": 4,
 "nbformat_minor": 2
}
