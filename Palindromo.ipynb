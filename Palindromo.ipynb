{
 "cells": [
  {
   "cell_type": "markdown",
   "metadata": {},
   "source": [
    "# Reto "
   ]
  },
  {
   "cell_type": "markdown",
   "metadata": {},
   "source": [
    "- Escribir un programa que indique si una palabra es palindromo."
   ]
  },
  {
   "cell_type": "code",
   "execution_count": null,
   "metadata": {},
   "outputs": [],
   "source": [
    "a = 'hola'\n",
    "\n",
    "s = False\n",
    "\n",
    "for x in range(len(a)):\n",
    "    if a[x] != a[-(x+1)]:\n",
    "        s = True\n",
    "        pass\n",
    "    if s:\n",
    "        break\n",
    "if not s:\n",
    "    print(\"Es palindromo.\")\n",
    "else:\n",
    "    print(\"No es palindromo\")\n"
   ]
  },
  {
   "cell_type": "markdown",
   "metadata": {},
   "source": [
    "Propuesta de solucción de \"Gallo\" (Optima)."
   ]
  },
  {
   "cell_type": "code",
   "execution_count": null,
   "metadata": {},
   "outputs": [],
   "source": [
    "a = input(\"Dame una palabra\")\n",
    "\n",
    "b = a[::-1]\n",
    "\n",
    "if (a == b):\n",
    "    print(a + \" Es palindromo.\")\n",
    "else:\n",
    "    print(a + \" No es palindromo\")\n"
   ]
  },
  {
   "cell_type": "markdown",
   "metadata": {},
   "source": [
    "- Escribir un programa que indique si una palabra o todas las permutaciones de la palabra es palindromo"
   ]
  },
  {
   "cell_type": "code",
   "execution_count": null,
   "metadata": {},
   "outputs": [],
   "source": [
    "a = 'yo voy'\n",
    "\n",
    "r = []\n",
    "\n",
    "for x in a:\n",
    "    if not x in r:\n",
    "        rep = a.count(x)\n",
    "        print(x + \" Se repite \"+ str(rep))\n",
    "        pass \n",
    "    r.append(x)"
   ]
  }
 ],
 "metadata": {
  "kernelspec": {
   "display_name": "Python 3",
   "language": "python",
   "name": "python3"
  },
  "language_info": {
   "codemirror_mode": {
    "name": "ipython",
    "version": 3
   },
   "file_extension": ".py",
   "mimetype": "text/x-python",
   "name": "python",
   "nbconvert_exporter": "python",
   "pygments_lexer": "ipython3",
   "version": "3.6.8"
  }
 },
 "nbformat": 4,
 "nbformat_minor": 2
}
